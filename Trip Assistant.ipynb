{
 "cells": [
  {
   "cell_type": "code",
   "execution_count": 1,
   "id": "fe4141de-bf7a-4205-986e-146cbadcceca",
   "metadata": {},
   "outputs": [],
   "source": [
    "from langgraph.graph import StateGraph , START , END \n",
    "from typing import TypedDict , Annotated , Sequence , Union\n",
    "from langchain_core.messages import  SystemMessage , BaseMessage , ToolMessage , HumanMessage\n",
    "from langchain_groq import ChatGroq\n",
    "from langgraph.prebuilt import ToolNode\n",
    "from langchain_core.tools import tool\n",
    "from langgraph.graph.message import add_messages\n",
    "from langchain_community.tools import DuckDuckGoSearchResults\n",
    "import requests\n",
    "from datetime import datetime\n",
    "from dotenv import load_dotenv\n",
    "import os"
   ]
  },
  {
   "cell_type": "code",
   "execution_count": 2,
   "id": "7e1525a2-c801-43c7-bbcb-ac46052c72cf",
   "metadata": {},
   "outputs": [
    {
     "data": {
      "text/plain": [
       "True"
      ]
     },
     "execution_count": 2,
     "metadata": {},
     "output_type": "execute_result"
    }
   ],
   "source": [
    "load_dotenv()"
   ]
  },
  {
   "cell_type": "code",
   "execution_count": 3,
   "id": "b520d6ff-8e1b-4d4b-b587-0b4c0ced47b3",
   "metadata": {},
   "outputs": [],
   "source": [
    "class AgentState(TypedDict):\n",
    "    messages: Annotated[Sequence[BaseMessage] , add_messages]"
   ]
  },
  {
   "cell_type": "code",
   "execution_count": 4,
   "id": "12da49d9-56ea-4ce0-b0cf-7fb1605a6d2d",
   "metadata": {},
   "outputs": [],
   "source": [
    "groq_api_key = os.getenv(\"groq_api_key\")"
   ]
  },
  {
   "cell_type": "code",
   "execution_count": 5,
   "id": "04ba6f79-99e9-4396-b452-bc77f728cd9c",
   "metadata": {},
   "outputs": [],
   "source": [
    "model = ChatGroq(model= \"llama3-70b-8192\" , api_key=groq_api_key , temperature=0.7)"
   ]
  },
  {
   "cell_type": "code",
   "execution_count": 6,
   "id": "36f43f18-1c37-4dd8-a719-50d4963fc5c4",
   "metadata": {},
   "outputs": [
    {
     "data": {
      "text/plain": [
       "AIMessage(content=\"Hii! How's it going?\", additional_kwargs={}, response_metadata={'token_usage': {'completion_tokens': 9, 'prompt_tokens': 14, 'total_tokens': 23, 'completion_time': 0.029029274, 'prompt_time': 0.000184168, 'queue_time': 0.057191611, 'total_time': 0.029213442}, 'model_name': 'llama3-70b-8192', 'system_fingerprint': 'fp_dd4ae1c591', 'finish_reason': 'stop', 'logprobs': None}, id='run--8a055ec4-c012-4e76-97d4-b8516860d45e-0', usage_metadata={'input_tokens': 14, 'output_tokens': 9, 'total_tokens': 23})"
      ]
     },
     "execution_count": 6,
     "metadata": {},
     "output_type": "execute_result"
    }
   ],
   "source": [
    "model.invoke(\"hii! \")"
   ]
  },
  {
   "cell_type": "code",
   "execution_count": 7,
   "id": "1408c325-de97-43d5-82d7-19a8c7778844",
   "metadata": {},
   "outputs": [],
   "source": [
    "@tool\n",
    "def get_flights_between_airports(from_city: str, to_city: str) -> str:\n",
    "    \"\"\"\n",
    "    Search for available flights and prices from one city to another using DuckDuckGo.\n",
    "    \n",
    "    Args:\n",
    "        from_city (str): Departure city (e.g., \"Mumbai\")\n",
    "        to_city (str): Destination city (e.g., \"Delhi\")\n",
    "\n",
    "    Returns:\n",
    "        str: Search result snippets or summaries.\n",
    "    \"\"\"\n",
    "    query = f\"flights from {from_city} to {to_city} with prices today\"\n",
    "    search = DuckDuckGoSearchResults()\n",
    "    results = search.run(query)\n",
    "    return results"
   ]
  },
  {
   "cell_type": "code",
   "execution_count": 8,
   "id": "f0de99fe-05a0-4700-b6dd-ae2857b90c46",
   "metadata": {},
   "outputs": [],
   "source": [
    "@tool\n",
    "def get_train_between_station(from_city: str, to_city: str) -> str:\n",
    "    \"\"\"\n",
    "    Search for available train and prices from one city to another using DuckDuckGo.\n",
    "    \n",
    "    Args:\n",
    "        from_city (str): Departure city (e.g., \"Mumbai\")\n",
    "        to_city (str): Destination city (e.g., \"Delhi\")\n",
    "\n",
    "    Returns:\n",
    "        str: Search result snippets or summaries.\n",
    "    \"\"\"\n",
    "    query = f\"train from {from_city} to {to_city} with prices today\"\n",
    "    search = DuckDuckGoSearchResults()\n",
    "    results = search.run(query)\n",
    "    return results"
   ]
  },
  {
   "cell_type": "code",
   "execution_count": 9,
   "id": "86f275cc-b6be-4bce-97ca-0be4b4bf3aec",
   "metadata": {},
   "outputs": [],
   "source": [
    "@tool\n",
    "def get_bus_between_city(from_city: str, to_city: str) -> str:\n",
    "    \"\"\"\n",
    "    Search for available busses and prices from one city to another using DuckDuckGo.\n",
    "    \n",
    "    Args:\n",
    "        from_city (str): Departure city (e.g., \"Mumbai\")\n",
    "        to_city (str): Destination city (e.g., \"Delhi\")\n",
    "\n",
    "    Returns:\n",
    "        str: Search result snippets or summaries.\n",
    "    \"\"\"\n",
    "    query = f\"bus from {from_city} to {to_city} with prices today\"\n",
    "    search = DuckDuckGoSearchResults()\n",
    "    results = search.run(query)\n",
    "    return results"
   ]
  },
  {
   "cell_type": "code",
   "execution_count": 10,
   "id": "5f8f0508-48e6-41ef-ae55-4ba8ee8678ed",
   "metadata": {},
   "outputs": [],
   "source": [
    "@tool\n",
    "def search_hotels(city: str, check_in: str = \"\", check_out: str = \"\") -> str:\n",
    "    \"\"\"\n",
    "    Search for hotels in a given city using DuckDuckGo.\n",
    "\n",
    "    Args:\n",
    "        city (str): The city where hotels are needed (e.g., \"Delhi\")\n",
    "        check_in (str): Optional check-in date (e.g., \"2025-05-24\")\n",
    "        check_out (str): Optional check-out date (e.g., \"2025-05-26\")\n",
    "\n",
    "    Returns:\n",
    "        str: Snippets or summaries of hotel listings and prices.\n",
    "    \"\"\"\n",
    "    date_part = f\" from {check_in} to {check_out}\" if check_in and check_out else \"\"\n",
    "    query = f\"hotels in {city}{date_part} with prices\"\n",
    "    search = DuckDuckGoSearchResults()\n",
    "    results = search.run(query)\n",
    "    return results"
   ]
  },
  {
   "cell_type": "code",
   "execution_count": 11,
   "id": "30fcd81d-8e14-4ab3-bba6-748b3750ad2e",
   "metadata": {},
   "outputs": [],
   "source": [
    "@tool\n",
    "def famous_food_in_city(city: str) -> str:\n",
    "    \"\"\"\n",
    "    Search for the famous food items in a given city using DuckDuckGo.\n",
    "\n",
    "    Args:\n",
    "        city (str): The city where food is being searched (e.g., \"Mumbai\")\n",
    "\n",
    "    Returns:\n",
    "        str: Search result snippets or summaries about famous dishes.\n",
    "    \"\"\"\n",
    "    query = f\"famous food in {city}\"\n",
    "    search = DuckDuckGoSearchResults()\n",
    "    results = search.run(query)\n",
    "    return results"
   ]
  },
  {
   "cell_type": "code",
   "execution_count": 12,
   "id": "97dcfa58-4a2c-4922-9e9b-e0dd792bbbc0",
   "metadata": {},
   "outputs": [],
   "source": [
    "@tool\n",
    "def search_tourist_places(city: str) -> str:\n",
    "    \"\"\"\n",
    "    Search for the top tourist places in a given city using DuckDuckGo.\n",
    "    \n",
    "    Args:\n",
    "        city (str): The city to find tourist places in (e.g., \"Mumbai\").\n",
    "        \n",
    "    Returns:\n",
    "        str: Search result snippets or summaries of tourist places.\n",
    "    \"\"\"\n",
    "    query = f\"tourist places in {city}\"\n",
    "    search = DuckDuckGoSearchResults()\n",
    "    results = search.run(query)\n",
    "    return results"
   ]
  },
  {
   "cell_type": "code",
   "execution_count": 13,
   "id": "49754ff5-31f4-42d1-8fde-6e73a798d667",
   "metadata": {},
   "outputs": [],
   "source": [
    "@tool\n",
    "def describe_location_beauty(city: str) -> str:\n",
    "    \"\"\"\n",
    "    Search for a brief description of the beauty of a given location.\n",
    "    \n",
    "    Args:\n",
    "        city (str): The city to describe (e.g., \"Mumbai\").\n",
    "        \n",
    "    Returns:\n",
    "        str: A brief description of the city's beauty (2 lines).\n",
    "    \"\"\"\n",
    "    query = f\"how beautiful is {city} description\"\n",
    "    search = DuckDuckGoSearchResults()\n",
    "    results = search.run(query)\n",
    "    \n",
    "    return results"
   ]
  },
  {
   "cell_type": "code",
   "execution_count": 14,
   "id": "c07c9300-7708-412a-9108-d5f0cf91ebe4",
   "metadata": {},
   "outputs": [],
   "source": [
    "tools = [get_flights_between_airports,get_train_between_station ,get_bus_between_city ,search_hotels ,famous_food_in_city,search_tourist_places,describe_location_beauty]"
   ]
  },
  {
   "cell_type": "code",
   "execution_count": 15,
   "id": "45b6a0d7-5d9a-400e-8713-49406c3e8af4",
   "metadata": {},
   "outputs": [],
   "source": [
    "model= model.bind_tools(tools , tool_choice=\"auto\")"
   ]
  },
  {
   "cell_type": "code",
   "execution_count": 16,
   "id": "7b0383b6-0ca8-41cf-bf94-ad6f7cdc5a33",
   "metadata": {},
   "outputs": [
    {
     "data": {
      "text/plain": [
       "AIMessage(content='', additional_kwargs={'tool_calls': [{'id': 'call_9m88', 'function': {'arguments': '{\"city\":\"Mumbai\"}', 'name': 'famous_food_in_city'}, 'type': 'function'}, {'id': 'call_t09z', 'function': {'arguments': '{\"city\":\"Mumbai\"}', 'name': 'search_tourist_places'}, 'type': 'function'}]}, response_metadata={'token_usage': {'completion_tokens': 86, 'prompt_tokens': 2032, 'total_tokens': 2118, 'completion_time': 0.245714286, 'prompt_time': 0.073841628, 'queue_time': 0.058823891, 'total_time': 0.319555914}, 'model_name': 'llama3-70b-8192', 'system_fingerprint': 'fp_dd4ae1c591', 'finish_reason': 'tool_calls', 'logprobs': None}, id='run--728bf073-9171-420e-bfe9-c8ced0c14a47-0', tool_calls=[{'name': 'famous_food_in_city', 'args': {'city': 'Mumbai'}, 'id': 'call_9m88', 'type': 'tool_call'}, {'name': 'search_tourist_places', 'args': {'city': 'Mumbai'}, 'id': 'call_t09z', 'type': 'tool_call'}], usage_metadata={'input_tokens': 2032, 'output_tokens': 86, 'total_tokens': 2118})"
      ]
     },
     "execution_count": 16,
     "metadata": {},
     "output_type": "execute_result"
    }
   ],
   "source": [
    "model.invoke(\"hello\")"
   ]
  },
  {
   "cell_type": "code",
   "execution_count": 77,
   "id": "97839fc0-4b13-477c-89d1-57cc98bca159",
   "metadata": {},
   "outputs": [],
   "source": [
    "def model_call(state:AgentState)-> AgentState:\n",
    "    system_prompt = SystemMessage(content=\n",
    "        \"\"\" You are Digital Travel Assistant v1.0, built to help users plan trips using available tools like flights, trains, buses, hotels, tourist places, food suggestions, and itinerary PDFs. If a user is traveling within India, ask whether they prefer train, bus, or flight. If it's international, ask only about flights. For each option, recommend with details like timing, price, duration, and class. For hotels, suggest low, mid, and luxury options with pricing and facilities. \n",
    "        For tourist places, describe how famous they are and what they’re known for. \n",
    "        For food, suggest local dishes, price range, and veg/non-veg.\n",
    "        Always ask user permission before using any tool (“Can I recommend you hotels?”). \n",
    "        If a user says something like “I want to go to Manali”, first describe the place, then ask their starting location.\n",
    "        If the user asks something outside trip planning, reply that you can only help using travel tools. \n",
    "        Once all tools are used, ask if they want a trip plan PDF and provide the link if they say yes.\n",
    "        when you recommend hotels then also provide what the features they provide like wifi , free food or not , etc.\n",
    "        and when you provide train detals also provide ac tickets price , genral ticket price , etc and as flights and recommend all train , flights and busses.\n",
    "        ask user there starting location.    \n",
    "\n",
    "        \n",
    "        \"\"\"\n",
    "    )\n",
    "    response = model.invoke([system_prompt] + state['messages'])\n",
    "    return {\"messages\": [response]}"
   ]
  },
  {
   "cell_type": "code",
   "execution_count": 79,
   "id": "d16e4058-3a1a-4954-b929-72ab46440741",
   "metadata": {},
   "outputs": [],
   "source": [
    "def should_continue(state: AgentState) -> str:\n",
    "    messages = state['messages']\n",
    "    last_message = messages[-1]\n",
    "    if not hasattr(last_message, 'tool_calls') or not last_message.tool_calls:\n",
    "        return \"end\"\n",
    "    else:\n",
    "        return \"continue\""
   ]
  },
  {
   "cell_type": "code",
   "execution_count": 81,
   "id": "a386ab02-5159-439b-8f07-1804b9d97101",
   "metadata": {},
   "outputs": [],
   "source": [
    "graph = StateGraph(AgentState)"
   ]
  },
  {
   "cell_type": "code",
   "execution_count": 83,
   "id": "d631ebe9-ac66-44cc-b3ec-7d7bc566072d",
   "metadata": {},
   "outputs": [
    {
     "data": {
      "image/png": "[encoded data removed]",
      "text/plain": [
       "<langgraph.graph.state.CompiledStateGraph object at 0x0000017A4466E0B0>"
      ]
     },
     "execution_count": 83,
     "metadata": {},
     "output_type": "execute_result"
    }
   ],
   "source": [
    "graph.add_node(\"our_agent\" , model_call)\n",
    "tool_node = ToolNode(tools=tools)\n",
    "graph.add_node(\"tool\" , tool_node)\n",
    "graph.set_entry_point(\"our_agent\")\n",
    "graph.add_conditional_edges(\n",
    "    \"our_agent\",\n",
    "    should_continue,\n",
    "    {\n",
    "        \"continue\": \"tool\",\n",
    "        \"end\": END\n",
    "    }\n",
    ")\n",
    "\n",
    "graph.add_edge(\"tool\", \"our_agent\")\n",
    "app = graph.compile()\n",
    "app"
   ]
  },
  {
   "cell_type": "code",
   "execution_count": null,
   "id": "8276c10f-d5f7-4bcd-89f6-fc5480259aa2",
   "metadata": {},
   "outputs": [
    {
     "name": "stdout",
     "output_type": "stream",
     "text": [
      "Hii I am Trip Assistant version 1.0 , I am here to help you regarding trip . how i help you\n"
     ]
    },
    {
     "name": "stdin",
     "output_type": "stream",
     "text": [
      "You:  hi\n"
     ]
    },
    {
     "name": "stdout",
     "output_type": "stream",
     "text": [
      "Trip Assistant: Hi! I'm your Digital Travel Assistant. I can help you plan your trip. Where are you planning to go?\n"
     ]
    },
    {
     "name": "stdin",
     "output_type": "stream",
     "text": [
      "You:  I wanted to travel to ayodhiya\n"
     ]
    },
    {
     "name": "stdout",
     "output_type": "stream",
     "text": [
      "Trip Assistant: Ayodhya! A city in Uttar Pradesh, India. It's a legendary city and a sacred Hindu pilgrimage site, believed to be the birthplace of Lord Rama. The city has a rich cultural heritage and is home to many ancient temples, including the Ram Janmabhoomi, which is believed to be the exact birthplace of Lord Rama. The city is also known for its vibrant festivals, and the Ram Leela, a theatrical enactment of the Ramayana, is a major attraction.\n",
      "\n",
      "Now, where are you starting your journey from?\n"
     ]
    },
    {
     "name": "stdin",
     "output_type": "stream",
     "text": [
      "You:  durg\n"
     ]
    },
    {
     "name": "stdout",
     "output_type": "stream",
     "text": [
      "Trip Assistant: Durg! A city in Chhattisgarh Pradesh, India.\n",
      "\n",
      "To reach Ayodhya from Durg, I'll need to check the available transportation options for you.\n",
      "\n",
      "Can I recommend trains, buses, or flights for you?\n"
     ]
    },
    {
     "name": "stdin",
     "output_type": "stream",
     "text": [
      "You:  train\n"
     ]
    },
    {
     "name": "stdout",
     "output_type": "stream",
     "text": [
      "Trip Assistant: There are several trains available from Durg to Ayodhya. Here are a few options:\n",
      "\n",
      "1. **Durg - Ayodhya Express (18205)**: Departs from Durg Junction (DURG) at 20:15, reaches Ayodhya Junction (AY) at 14:30 (next day). 2nd AC tickets are available for ₹ 2,145, 3rd AC for ₹ 1,445, and Sleeper Class for ₹ 845.\n",
      "2. **Durg - Varanasi Express (15119)**: Departs from Durg Junction (DURG) at 23:00, reaches Ayodhya Junction (AY) at 17:30 (next day). 2nd AC tickets are available for ₹ 2,345, 3rd AC for ₹ 1,645, and Sleeper Class for ₹ 945.\n",
      "3. **Durg - Gorakhpur Express (15159)**: Departs from Durg Junction (DURG) at 23:30, reaches Ayodhya Junction (AY) at 19:30 (next day). 2nd AC tickets are available for ₹ 2,445, 3rd AC for ₹ 1,845, and Sleeper Class for ₹ 1,045.\n",
      "\n",
      "Please note that ticket prices and availability may vary depending on the season and demand.\n",
      "\n",
      "Would you like me to recommend hotels in Ayodhya?\n"
     ]
    },
    {
     "name": "stdin",
     "output_type": "stream",
     "text": [
      "You:  yes\n"
     ]
    },
    {
     "name": "stdout",
     "output_type": "stream",
     "text": [
      "Trip Assistant: Here are some hotel options in Ayodhya:\n",
      "\n",
      "**Luxury Option:**\n",
      "\n",
      "* **Hotel Ramaprastha** (5-star): Located near the Ram Janmabhoomi, this hotel offers luxurious rooms with modern amenities like free Wi-Fi, LED TV, and minibar. The hotel also has a rooftop restaurant, fitness center, and spa. Prices start from ₹ 6,000 per night**.\n",
      "\n",
      "**Mid-Range Option:**\n",
      "\n",
      "* **Hotel Sri Ram International** (3-star): This hotel is located near the Ayodhya Railway Station and offers comfortable rooms with amenities like free Wi-Fi, LED TV, and 24-hour room service. Prices start from ₹ 2,500 per night.\n",
      "\n",
      "**Budget-Friendly Option:**\n",
      "\n",
      "* **Hotel Shri Ram Vilas** (2-star): Located near the Ram Janmabhoomi, this hotel offers basic rooms with amenities like free Wi-Fi and 24-hour front desk. Prices start from ₹ 1,200 per night.\n",
      "\n",
      "All hotels offer vegetarian food options, and some may have non-vegetarian options as well. Please note that prices may vary depending on the season and availability.\n",
      "\n",
      "Would you like to know about famous food items in Ayodhya?\n"
     ]
    }
   ],
   "source": [
    "conversation_memory = {\"messages\": []}\n",
    "print(\"Hii I am Trip Assistant version 1.0 , I am here to help you regarding trip . how i help you\")\n",
    "    \n",
    "while True:\n",
    "    user_input = input(\"You: \")\n",
    "        \n",
    "    if user_input.lower() == \"exit\":\n",
    "        print(\"Trip Assistant: Thank you for using Trip Assistant. Have a great trip!\")\n",
    "        break\n",
    "\n",
    "    conversation_memory[\"messages\"].append(HumanMessage(content=user_input))\n",
    "\n",
    "    try:\n",
    "        result = app.invoke(conversation_memory)\n",
    "\n",
    "        conversation_memory = result\n",
    "            \n",
    "        last_message = conversation_memory[\"messages\"][-1]\n",
    "            \n",
    "        if hasattr(last_message, 'content') and last_message.content:\n",
    "            print(\"Trip Assistant:\", last_message.content)\n",
    "        else:\n",
    "            print(\"Trip Assistant: I'm processing your request...\")\n",
    "                \n",
    "    except Exception as e:\n",
    "        print(f\"Trip Assistant: Sorry, I encountered an error: {str(e)}\")\n",
    "        print(\"Trip Assistant: Please try again with a different query.\")\n"
   ]
  },
  {
   "cell_type": "code",
   "execution_count": null,
   "id": "0cf23735-43ff-4fb0-a8c8-ca46e531cca4",
   "metadata": {},
   "outputs": [],
   "source": []
  },
  {
   "cell_type": "code",
   "execution_count": null,
   "id": "1b14d950-2f73-47c2-b714-2d892f8a5b67",
   "metadata": {},
   "outputs": [],
   "source": []
  }
 ],
 "metadata": {
  "kernelspec": {
   "display_name": "genai",
   "language": "python",
   "name": "genai"
  },
  "language_info": {
   "codemirror_mode": {
    "name": "ipython",
    "version": 3
   },
   "file_extension": ".py",
   "mimetype": "text/x-python",
   "name": "python",
   "nbconvert_exporter": "python",
   "pygments_lexer": "ipython3",
   "version": "3.10.16"
  }
 },
 "nbformat": 4,
 "nbformat_minor": 5
}
